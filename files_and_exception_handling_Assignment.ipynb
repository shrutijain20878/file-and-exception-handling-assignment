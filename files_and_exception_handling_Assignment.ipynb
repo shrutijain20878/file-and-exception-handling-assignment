{
  "nbformat": 4,
  "nbformat_minor": 0,
  "metadata": {
    "colab": {
      "provenance": []
    },
    "kernelspec": {
      "name": "python3",
      "display_name": "Python 3"
    },
    "language_info": {
      "name": "python"
    }
  },
  "cells": [
    {
      "cell_type": "code",
      "execution_count": null,
      "metadata": {
        "id": "14pslMCAAyoy"
      },
      "outputs": [],
      "source": []
    },
    {
      "cell_type": "markdown",
      "source": [
        "# files and exception handling Assignment's Theory"
      ],
      "metadata": {
        "id": "6pdgxIYZBBF2"
      }
    },
    {
      "cell_type": "markdown",
      "source": [
        "1. **What is the difference between interpreted and compiled languages?**\n",
        "\n",
        "    **Interpreted Languages:**\n",
        "\n",
        "    Interpreted languages execute code line-by-line using an interpreter at runtime, making them easier to debug and test since errors can be found and corrected quickly during execution. However, they generally run slower because the interpretation happens every time the program runs. Examples include Python and JavaScript.\n",
        "\n",
        "    **Compiled Languages:**\n",
        "\n",
        "    Compiled languages translate the entire source code into machine code using a compiler before execution, allowing the program to run faster since it directly executes the compiled file. However, debugging can be harder, as you need to recompile after making changes to the code. Examples include C and C++.\n",
        "\n"
      ],
      "metadata": {
        "id": "G3SieF9JBDmd"
      }
    },
    {
      "cell_type": "markdown",
      "source": [
        "2. **What is exception handling in Python?**\n",
        "   \n",
        "    Exception handling in Python is a process of resolving errors that occur in a program. This involves catching exceptions, understanding what caused them, and then responding accordingly. Exceptions are errors that occur at runtime when the program is being executed."
      ],
      "metadata": {
        "id": "EHrVelufBx5T"
      }
    },
    {
      "cell_type": "markdown",
      "source": [
        "3. **What is the purpose of the finally block in exception handling?**\n",
        "   \n",
        "    The finally block in exception handling ensures that a specific block of code is always executed, regardless of whether an exception is thrown or caught within the try block. Its primary purpose is to perform necessary cleanup operations, such as releasing resources (closing files, database connections, etc.) or performing other final actions, to prevent resource leaks and ensure proper program termination"
      ],
      "metadata": {
        "id": "FhS8zaahB8uC"
      }
    },
    {
      "cell_type": "markdown",
      "source": [
        "4. **What is logging in Python?**\n",
        "\n",
        "    Logging in Python is the process of tracking and recording events that occur during the execution of a program. It involves using the built-in logging module to capture information about the program's state, errors, warnings, and other significant events."
      ],
      "metadata": {
        "id": "C6EfOUzvCIeO"
      }
    },
    {
      "cell_type": "markdown",
      "source": [
        "5. **What is the significance of the __del__ method in Python?**\n",
        "\n",
        "    The __del__ method in Python, also known as the \"destructor\" or \"finalizer,\" is a special method that gets called by the garbage collector when an object is about to be destroyed. Its primary significance lies in facilitating cleanup operations and resource management before an object is removed from memory."
      ],
      "metadata": {
        "id": "iFmQAliMCRBk"
      }
    },
    {
      "cell_type": "markdown",
      "source": [
        "6. **What is the difference between import and from ... import in Python?**\n",
        "\n",
        "   **import module**\n",
        "\n",
        "    Imports the entire module, You access functions/classes using module.function() or module.class.  \n",
        "    Example:\n",
        "    import math\n",
        "    print(math.sqrt(16))\n",
        "\n",
        "\n",
        "  **from module import name**\n",
        "\n",
        "  Imports specific functions, classes, or variables directly from the module, You can use them without the module name prefix.\n",
        "\n",
        "   Example:\n",
        "   from math import sqrt\n",
        "   print(sqrt(16))\n",
        "\n",
        "\n",
        "\n"
      ],
      "metadata": {
        "id": "E8Gdr-sgCcrO"
      }
    },
    {
      "cell_type": "markdown",
      "source": [
        "7.  **How can you handle multiple exceptions in Python?**\n",
        "\n",
        "   handle multiple exceptions in Python using below 2 methods\n",
        "\n",
        "*   Using a tuple in except:\n",
        "Catch multiple exceptions with one block:\n",
        "\n",
        "  try:\n",
        "    x = int(\"abc\")\n",
        "except (ValueError, TypeError):\n",
        "    print(\"ValueError or TypeError occurred\")\n",
        "\n",
        "*   Using multiple except blocks:\n",
        "Handle different exceptions differently:\n",
        "\n",
        "  try:\n",
        "    x = 1 / 0\n",
        "except ZeroDivisionError:\n",
        "    print(\"Cannot divide by zero\")\n",
        "except ValueError:\n",
        "    print(\"Invalid value\")\n",
        "\n",
        "\n"
      ],
      "metadata": {
        "id": "iRRorAU2DS_r"
      }
    },
    {
      "cell_type": "markdown",
      "source": [
        "8. **What is the purpose of the with statement when handling files in Python?**\n",
        "\n",
        "    The purpose of the with statement when handling files in Python is to ensure proper resource management, specifically that the file is automatically closed after its use, even if errors occur."
      ],
      "metadata": {
        "id": "r6L_pNcnEGuK"
      }
    },
    {
      "cell_type": "markdown",
      "source": [
        "9. **What is the difference between multithreading and multiprocessing?**\n",
        "\n",
        "   Multithreading:\n",
        "\n",
        "    Multithreading allows a program to run multiple threads within the same process, sharing the same memory space, which makes it lightweight and efficient for I/O-bound tasks like file handling or network operations. However, in Python, the Global Interpreter Lock (GIL) prevents true parallel execution of threads for CPU-bound tasks.\n",
        "\n",
        "    Multiprocessing:\n",
        "\n",
        "    Multiprocessing creates multiple processes, each with its own memory space, allowing true parallel execution and making it suitable for CPU-bound tasks that require heavy computations. It bypasses the GIL in Python, but processes do not share memory easily, requiring additional mechanisms for inter-process communication."
      ],
      "metadata": {
        "id": "w8fGeRvhESOl"
      }
    },
    {
      "cell_type": "markdown",
      "source": [
        "10. **What are the advantages of using logging in a program?**\n",
        "    \n",
        "    Logging offers numerous advantages in programming, primarily aiding in debugging, performance monitoring, and security. It provides a detailed record of application behavior, allowing developers to understand how the program functions, track events, and identify issues, including errors, warnings, and other critical events. Logs also help in analyzing application behavior over time, detecting usage patterns, and even facilitating incident investigations"
      ],
      "metadata": {
        "id": "cbWfq_frEksx"
      }
    },
    {
      "cell_type": "markdown",
      "source": [
        "11. **What is memory management in Python?**\n",
        "\n",
        "   Memory management in Python involves the management of a private heap. A private heap is a portion of memory that is exclusive to the Python process. All Python objects and data structures are stored in the private heap. The operating system cannot allocate this piece of memory to another process."
      ],
      "metadata": {
        "id": "I8kJUqKtEzjJ"
      }
    },
    {
      "cell_type": "markdown",
      "source": [
        "12. **What are the basic steps involved in exception handling in Python?**\n",
        "\n",
        "   Exception handling in Python involves structuring code to anticipate and manage errors or \"exceptions\" that may occur during program execution. The basic steps and components are:\n",
        "\n",
        "   try Block:\n",
        "\n",
        "    This block contains the code that is to be monitored for potential exceptions. Python attempts to execute the code within this block. If an exception occurs, the execution of the try block immediately stops, and control is transferred to the appropriate except block.\n",
        "\n",
        "    except Block(s):\n",
        "\n",
        "    Following a try block, one or more except blocks can be defined to handle specific types of exceptions. If an exception raised in the try block matches the type specified in an except block, the code within that except block is executed. Multiple except blocks can be used to handle different exception types, or a general except block can catch any unhandled exception.\n",
        "\n",
        "    else Block (Optional):\n",
        "\n",
        "    If included, the else block executes only if no exception occurs within the try block. This is useful for code that should only run when the try block completes successfully.\n",
        "\n",
        "    finally Block (Optional):\n",
        "\n",
        "    The finally block always executes, regardless of whether an exception occurred in the try block or was handled by an except block. It is commonly used for cleanup operations, such as closing files or releasing resources, ensuring these actions happen even if an error disrupts the normal flow."
      ],
      "metadata": {
        "id": "_29FOI3SE82e"
      }
    },
    {
      "cell_type": "markdown",
      "source": [
        "13. **Why is memory management important in Python?**\n",
        "\n",
        "    Memory management in Python is important because it ensures efficient use of system memory while running programs, preventing memory leaks and crashes. Python uses automatic garbage collection to reclaim unused memory, allowing developers to focus on logic without manually freeing memory. Effective memory management helps programs run faster and handle large data smoothly, which is essential for reliable and scalable applications.\n",
        "\n"
      ],
      "metadata": {
        "id": "2tzizTQ2FXtG"
      }
    },
    {
      "cell_type": "markdown",
      "source": [
        "14. **What is the role of try and except in exception handling?**\n",
        "\n",
        "     In Python, the try and except blocks are the fundamental components of exception handling. The try block encloses code that might potentially raise an exception, while the except block provides a mechanism to catch and handle those exceptions gracefully, preventing the program from crashing and allowing it to continue execution with a controlled response."
      ],
      "metadata": {
        "id": "meSvKfjUFs8C"
      }
    },
    {
      "cell_type": "markdown",
      "source": [
        "15. **How does Python's garbage collection system work?**\n",
        "\n",
        "    Python's garbage collection system primarily uses reference counting as its main mechanism for memory management. It also employs a generational garbage collector to handle circular references. Essentially, Python keeps track of how many references point to each object. When the reference count drops to zero, the object is considered garbage and its memory is freed"
      ],
      "metadata": {
        "id": "PVAEePz1F3r-"
      }
    },
    {
      "cell_type": "markdown",
      "source": [
        "16. **What is the purpose of the else block in exception handling?**\n",
        "\n",
        "   In exception handling, the else block is executed only when no exceptions are raised within the associated try block. It provides a way to run code that depends on the successful execution of the try block, without the risk of it being affected by any exceptions that might occur."
      ],
      "metadata": {
        "id": "Q0bZhumNGCgW"
      }
    },
    {
      "cell_type": "markdown",
      "source": [
        "17. **What are the common logging levels in Python?**\n",
        "\n",
        "    The Python logging module defines several standard levels to indicate the severity of events. These levels are used to categorize and filter log messages, allowing for different levels of detail depending on the environment or specific needs.\n",
        "The common logging levels, in increasing order of severity, are:\n",
        "\n",
        "   DEBUG:\n",
        "   Provides detailed information, typically useful only when diagnosing problems or during development.\n",
        "\n",
        "  INFO:\n",
        "  Confirms that things are working as expected and provides general operational information.\n",
        "\n",
        "  WARNING:\n",
        "  Indicates that something unexpected happened or that a potential problem might arise in the near future, but the software is still functioning.\n",
        "\n",
        "  ERROR:\n",
        "  Signifies a more serious problem that has prevented the software from performing some function.\n",
        "\n",
        "  CRITICAL:\n",
        "  Represents a severe error indicating that the program itself may be unable to continue running.\n",
        "\n",
        "    "
      ],
      "metadata": {
        "id": "xmbcmq1TGLMG"
      }
    },
    {
      "cell_type": "markdown",
      "source": [
        "18. **What is the difference between os.fork() and multiprocessing in Python?**\n",
        "     \n",
        "     os.fork():\n",
        "\n",
        "    os.fork() is a low-level system call available only on Unix/Linux that creates a child process by duplicating the current process, allowing both parent and child to execute independently from the fork point. It is fast but requires manual management of processes, making it less portable and harder to use for complex parallel tasks.\n",
        "\n",
        "    multiprocessing module:\n",
        "\n",
        "    The multiprocessing module is a high-level, cross-platform Python library that allows easy creation and management of separate processes, providing process-based parallelism while bypassing the GIL. It simplifies inter-process communication and is well-suited for CPU-bound tasks, making parallel programming in Python cleaner and more manageable."
      ],
      "metadata": {
        "id": "IGLITfbLGljO"
      }
    },
    {
      "cell_type": "markdown",
      "source": [
        "19.  **What is the importance of closing a file in Python?**\n",
        "\n",
        "     Closing a file in Python is important because it ensures that all data written to the file is properly saved and resources like file handles are released back to the system. If a file is not closed, it may lead to data loss, file corruption, or unnecessary memory usage, especially when working with multiple files. Using file.close() or a with statement ensures safe and clean file handling in Python programs."
      ],
      "metadata": {
        "id": "ey7NuvMkG6VJ"
      }
    },
    {
      "cell_type": "markdown",
      "source": [
        "20. **What is the difference between file.read() and file.readline() in Python?**\n",
        "\n",
        "    file.read():\n",
        "\n",
        "    The file.read() method reads the entire content of a file at once and returns it as a single string. It is useful when you need to process the whole file together, but it can consume a lot of memory if the file is large.\n",
        "\n",
        "    file.readline():\n",
        "\n",
        "    The file.readline() method reads one line from the file at a time, making it memory-efficient for reading large files line-by-line. It is useful when you need to process or analyze each line individually without loading the entire file into memory."
      ],
      "metadata": {
        "id": "rB7ugG_hHGrv"
      }
    },
    {
      "cell_type": "markdown",
      "source": [
        "21. **What is the logging module in Python used for?**\n",
        "\n",
        "    The logging module in Python is used to track events in a program's execution. It allows developers to record information about errors, warnings, and other events that occur during program execution. This helps in debugging, troubleshooting, and monitoring the application's behavior. Instead of using print statements, which are often temporary and lack context, the logging module provides a structured approach to capturing information about program execution"
      ],
      "metadata": {
        "id": "l2NbEo6MHckQ"
      }
    },
    {
      "cell_type": "markdown",
      "source": [
        "22. **What is the os module in Python used for in file handling?**\n",
        "\n",
        "    The Python OS module is essential for file-related tasks, enabling efficient file and directory management in programs. It allows you to easily handle the current working directory, create and delete directories, list files and folders, and perform file operations"
      ],
      "metadata": {
        "id": "78YLjZn2HsTu"
      }
    },
    {
      "cell_type": "markdown",
      "source": [
        "23. **What are the challenges associated with memory management in Python?**\n",
        "\n",
        "   Challenges associated with memory management in Python include handling memory leaks due to lingering references, managing circular references that the garbage collector might not immediately clean, and dealing with high memory usage when working with large datasets since Python objects can consume more memory than lower-level languages. Additionally, the automatic garbage collection in Python adds overhead, and developers need to write efficient code to avoid unnecessary memory consumption during program execution."
      ],
      "metadata": {
        "id": "DhkW4e7iH2CN"
      }
    },
    {
      "cell_type": "markdown",
      "source": [
        "24. **How do you raise an exception manually in Python?**\n",
        "\n",
        "   In Python, you manually raise an exception using the raise keyword. This allows you to explicitly trigger an error condition and halt the normal flow of execution, signaling that something unexpected or erroneous has occurred.\n",
        "\n",
        "    The basic syntax for raising an exception is:\n",
        "\n",
        "        x = -5\n",
        "        if x < 0:\n",
        "           raise ValueError(\"Input cannot be a negative number.\")"
      ],
      "metadata": {
        "id": "5n2_4H-2IEWF"
      }
    },
    {
      "cell_type": "markdown",
      "source": [
        "25.  **Why is it important to use multithreading in certain applications?**\n",
        "\n",
        "     Multithreading is important in certain applications because it allows for improved performance, responsiveness, and resource utilization by enabling concurrent execution of multiple tasks within a single process. This is especially beneficial for applications involving heavy computational tasks, network communication, or a graphical user interface."
      ],
      "metadata": {
        "id": "sUyx2Gy6IbsN"
      }
    },
    {
      "cell_type": "markdown",
      "source": [
        "# files and exception handling Assignment's Practical"
      ],
      "metadata": {
        "id": "PmORKuXpIwsa"
      }
    },
    {
      "cell_type": "code",
      "source": [
        "# 1. How can you open a file for writing in Python and write a string to it?\n",
        "file = open(\"file.txt\", 'w')\n",
        "content  = file.write(\"Hello\")\n",
        "file.close()"
      ],
      "metadata": {
        "id": "ELipuhN_G59p"
      },
      "execution_count": 1,
      "outputs": []
    },
    {
      "cell_type": "code",
      "source": [
        "# 2 Write a Python program to read the contents of a file and print each line?\n",
        "file = open(\"file.txt\", \"w\")\n",
        "file.write(\"This is my first line \\n\")\n",
        "file.write(\"This is my second line \\n\")\n",
        "file.write(\"This is my third line \\n\")\n",
        "file.write(\"This is my fourth line \\n\")\n",
        "file.close()\n",
        "\n",
        "file = open(\"file.txt\", \"r\")\n",
        "content = file.read() # or use readlines\n",
        "print(content)\n",
        "file.close()"
      ],
      "metadata": {
        "colab": {
          "base_uri": "https://localhost:8080/"
        },
        "id": "EF-__Da7J2-0",
        "outputId": "64b84e4b-2083-4ca6-9950-2b91417f8be2"
      },
      "execution_count": 6,
      "outputs": [
        {
          "output_type": "stream",
          "name": "stdout",
          "text": [
            "This is my first line \n",
            "This is my second line \n",
            "This is my third line \n",
            "This is my fourth line \n",
            "\n"
          ]
        }
      ]
    },
    {
      "cell_type": "code",
      "source": [
        "# 3. How would you handle a case where the file doesn't exist while trying to open it for reading\n",
        "try:\n",
        "  file = open(\"data.txt\", \"r\")\n",
        "except FileNotFoundError:\n",
        "  print(\"File is not there for reading\")\n",
        "else:\n",
        "  content = file.read()\n",
        "  print(content)\n",
        "finally:\n",
        "  file.close()"
      ],
      "metadata": {
        "colab": {
          "base_uri": "https://localhost:8080/"
        },
        "id": "qOoG1WkTKu2d",
        "outputId": "a015983f-a960-40f8-eca8-1887e3c4c060"
      },
      "execution_count": 7,
      "outputs": [
        {
          "output_type": "stream",
          "name": "stdout",
          "text": [
            "File is not there for reading\n"
          ]
        }
      ]
    },
    {
      "cell_type": "code",
      "source": [
        "# 4 Write a Python script that reads from one file and writes its content to another file\n",
        "with open(\"file.txt\", \"r\") as f:\n",
        "  content = f.read()\n",
        "  with open(\"another_file.txt\", \"w\") as f1:\n",
        "    f1.write(content)\n",
        "with open(\"another_file.txt\", \"r\") as f:\n",
        "    content = f.read()\n",
        "    print(content)"
      ],
      "metadata": {
        "colab": {
          "base_uri": "https://localhost:8080/"
        },
        "id": "5S-PFpG9LdgZ",
        "outputId": "69a63807-7f1a-43ad-b778-d87bdfbe74e8"
      },
      "execution_count": 10,
      "outputs": [
        {
          "output_type": "stream",
          "name": "stdout",
          "text": [
            "This is my first line \n",
            "This is my second line \n",
            "This is my third line \n",
            "This is my fourth line \n",
            "\n"
          ]
        }
      ]
    },
    {
      "cell_type": "code",
      "source": [
        "# 5. How would you catch and handle division by zero error in Python\n",
        "try:\n",
        "  x= 10/0\n",
        "except ZeroDivisionError:\n",
        "  print(\"cannnot be divide by zero\")"
      ],
      "metadata": {
        "colab": {
          "base_uri": "https://localhost:8080/"
        },
        "id": "v1s79cXzMggc",
        "outputId": "d80d498a-5fb0-4ed5-bf1f-153d80574a9b"
      },
      "execution_count": 12,
      "outputs": [
        {
          "output_type": "stream",
          "name": "stdout",
          "text": [
            "cannnot be divide by zero\n"
          ]
        }
      ]
    },
    {
      "cell_type": "code",
      "source": [
        "# 6. Write a Python program that logs an error message to a log file when a division by zero exception occurs\n",
        "import logging\n",
        "logging.basicConfig(filename='error_log.txt', level=logging.ERROR,\n",
        "                    format='%(asctime)s - %(levelname)s - %(message)s')\n",
        "\n",
        "try:\n",
        "    x = 10 / 0\n",
        "except ZeroDivisionError as e:\n",
        "    logging.error(\"Division by zero occurred: %s\", e)\n",
        "\n",
        "print(\"Program completed.\")"
      ],
      "metadata": {
        "colab": {
          "base_uri": "https://localhost:8080/"
        },
        "id": "pG2GRD0INCrA",
        "outputId": "931bfe0e-8ab4-4559-aa2b-253997069427"
      },
      "execution_count": 13,
      "outputs": [
        {
          "output_type": "stream",
          "name": "stderr",
          "text": [
            "ERROR:root:Division by zero occurred: division by zero\n"
          ]
        },
        {
          "output_type": "stream",
          "name": "stdout",
          "text": [
            "Program completed.\n"
          ]
        }
      ]
    },
    {
      "cell_type": "code",
      "source": [
        "# 7. How do you log information at different levels (INFO, ERROR, WARNING) in Python using the logging module\n",
        "import logging\n",
        "\n",
        "logging.basicConfig(filename='app_log.txt', level=logging.INFO,\n",
        "                    format='%(asctime)s - %(levelname)s - %(message)s')\n",
        "\n",
        "logging.info(\"This is an info message.\")\n",
        "logging.warning(\"This is a warning message.\")\n",
        "logging.error(\"This is an error message.\")\n",
        "logging.critical(\"This is an critical message\")"
      ],
      "metadata": {
        "colab": {
          "base_uri": "https://localhost:8080/"
        },
        "id": "RNG-56LRN_yU",
        "outputId": "194a2e81-49cf-4bf3-d26e-04ad75b152ea"
      },
      "execution_count": 14,
      "outputs": [
        {
          "output_type": "stream",
          "name": "stderr",
          "text": [
            "WARNING:root:This is a warning message.\n",
            "ERROR:root:This is an error message.\n",
            "CRITICAL:root:This is an critical message\n"
          ]
        }
      ]
    },
    {
      "cell_type": "code",
      "source": [
        "# 8. Write a program to handle a file opening error using exception handlingF\n",
        "try:\n",
        "  file = open(\"data.txt\", \"r\")\n",
        "except FileNotFoundError as e:\n",
        "  print(e)\n",
        "else:\n",
        "  content = file.read()\n",
        "  print(content)\n",
        "finally:\n",
        "  file.close()"
      ],
      "metadata": {
        "colab": {
          "base_uri": "https://localhost:8080/"
        },
        "id": "4CVCpD_MOmnB",
        "outputId": "c5044daf-c176-4d67-d5e9-53bd6c4d47be"
      },
      "execution_count": 16,
      "outputs": [
        {
          "output_type": "stream",
          "name": "stdout",
          "text": [
            "[Errno 2] No such file or directory: 'data.txt'\n"
          ]
        }
      ]
    },
    {
      "cell_type": "code",
      "source": [
        "# 9. How can you read a file line by line and store its content in a list in Python\n",
        "with open(\"file.txt\", \"r\") as f:\n",
        "  lines = f.readlines()\n",
        "lines"
      ],
      "metadata": {
        "colab": {
          "base_uri": "https://localhost:8080/"
        },
        "id": "BEasYZ_NOzVT",
        "outputId": "48c2af9f-6c4d-43bb-94e7-dab3513e3776"
      },
      "execution_count": 21,
      "outputs": [
        {
          "output_type": "execute_result",
          "data": {
            "text/plain": [
              "['This is my first line \\n',\n",
              " 'This is my second line \\n',\n",
              " 'This is my third line \\n',\n",
              " 'This is my fourth line \\n']"
            ]
          },
          "metadata": {},
          "execution_count": 21
        }
      ]
    },
    {
      "cell_type": "code",
      "source": [
        "# 10. How can you append data to an existing file in Python\n",
        "file = open(\"file.txt\", \"a\")\n",
        "file.write(\"This is my append line data\")\n",
        "file.close()\n",
        "file = open(\"file.txt\", \"r\")\n",
        "content = file.read()\n",
        "print(content)\n",
        "file.close()"
      ],
      "metadata": {
        "colab": {
          "base_uri": "https://localhost:8080/"
        },
        "id": "DuEtIw3FPZaO",
        "outputId": "ecf5831c-f037-4975-f8ca-ceef20d356a7"
      },
      "execution_count": 24,
      "outputs": [
        {
          "output_type": "stream",
          "name": "stdout",
          "text": [
            "This is my first line \n",
            "This is my second line \n",
            "This is my third line \n",
            "This is my fourth line \n",
            "This is my append line dataThis is my append line data\n"
          ]
        }
      ]
    },
    {
      "cell_type": "code",
      "source": [
        "# 11. Write a Python program that uses a try-except block to handle an error when attempting to access a dictionary key that doesn't exist\n",
        "d = {\"name\": \"shruti\", \"age\": 23}\n",
        "try:\n",
        "  print(d[\"course\"])\n",
        "except KeyError:\n",
        "  print(\"Keyerror\")"
      ],
      "metadata": {
        "colab": {
          "base_uri": "https://localhost:8080/"
        },
        "id": "9YNgFX5sQW-y",
        "outputId": "2742dfb8-a302-43a2-d3da-7c7d9dd75bd1"
      },
      "execution_count": 27,
      "outputs": [
        {
          "output_type": "stream",
          "name": "stdout",
          "text": [
            "Keyerror\n"
          ]
        }
      ]
    },
    {
      "cell_type": "code",
      "source": [
        "# 12. Write a program that demonstrates using multiple except blocks to handle different types of exceptions\n",
        "try:\n",
        "    mynum = int(input(\"Enter a number \"))\n",
        "    x = 10/mynum\n",
        "except ZeroDivisionError:    # for entering zero\n",
        "    print(\"you cannot divide by zero!\")\n",
        "except ValueError: # for entering other value like string, etc\n",
        "    print(\"invalid value entered. Enter a valid number other than 0\")\n",
        "else:\n",
        "    print(x)\n",
        "finally:\n",
        "    print(\"executed completed\")"
      ],
      "metadata": {
        "colab": {
          "base_uri": "https://localhost:8080/"
        },
        "id": "26tAivafRCxj",
        "outputId": "a9d64b83-1512-44a9-f00e-ab3fe49ed792"
      },
      "execution_count": 30,
      "outputs": [
        {
          "output_type": "stream",
          "name": "stdout",
          "text": [
            "Enter a number 0\n",
            "you cannot divide by zero!\n",
            "executed completed\n"
          ]
        }
      ]
    },
    {
      "cell_type": "code",
      "source": [
        "# 13 How would you check if a file exists before attempting to read it in Python\n",
        "import os\n",
        "if os.path.exists(\"file.txt\"):\n",
        "    with open(\"file.txt\", \"r\") as f:\n",
        "        content = f.read()\n",
        "        print(content)\n",
        "else:\n",
        "    print(\"File does not exist.\")"
      ],
      "metadata": {
        "colab": {
          "base_uri": "https://localhost:8080/"
        },
        "id": "VocVcVaBRsUz",
        "outputId": "93c69683-61b7-4bbb-b631-6ca16a229ae8"
      },
      "execution_count": 31,
      "outputs": [
        {
          "output_type": "stream",
          "name": "stdout",
          "text": [
            "This is my first line \n",
            "This is my second line \n",
            "This is my third line \n",
            "This is my fourth line \n",
            "This is my append line dataThis is my append line data\n"
          ]
        }
      ]
    },
    {
      "cell_type": "code",
      "source": [
        "# 14. Write a program that uses the logging module to log both informational and error messages\n",
        "import logging\n",
        "\n",
        "logging.basicConfig(filename = \"file_log.txt\", level = logging.DEBUG, format = '%(asctime)s - %(levelname)s - %(message)s')\n",
        "\n",
        "try:\n",
        "  logging.info(\"can occur zero division error\")\n",
        "  x=10/0\n",
        "except ZeroDivisionError:\n",
        "  logging.error(\"containing zero division error\")\n",
        "\n",
        "logging.info(\"program finished\")\n",
        "logging.shutdown()"
      ],
      "metadata": {
        "colab": {
          "base_uri": "https://localhost:8080/"
        },
        "id": "RvFP277zSa7A",
        "outputId": "229f252d-37e7-4122-bb80-dcda5aebe083"
      },
      "execution_count": 34,
      "outputs": [
        {
          "output_type": "stream",
          "name": "stderr",
          "text": [
            "ERROR:root:containing zero division error\n"
          ]
        }
      ]
    },
    {
      "cell_type": "code",
      "source": [
        "# 15. Write a Python program that prints the content of a file and handles the case when the file is empty\n",
        "class EmptyFileError(Exception):\n",
        "    pass\n",
        "try:\n",
        "    with open(\"file.txt\", \"r\") as f:\n",
        "        content = f.read()\n",
        "        if content.strip() == \"\":\n",
        "            raise EmptyFileError(\"The file is empty.\")\n",
        "        else:\n",
        "            print(\"File content:\")\n",
        "            print(content)\n",
        "except FileNotFoundError:\n",
        "    print(\"Error: The file does not exist.\")\n",
        "except EmptyFileError as e:\n",
        "    print(e)"
      ],
      "metadata": {
        "colab": {
          "base_uri": "https://localhost:8080/"
        },
        "id": "QTKLIL06Tj6c",
        "outputId": "1c00373b-cc2a-42d6-bb2d-d1a19ab7fce8"
      },
      "execution_count": 35,
      "outputs": [
        {
          "output_type": "stream",
          "name": "stdout",
          "text": [
            "File content:\n",
            "This is my first line \n",
            "This is my second line \n",
            "This is my third line \n",
            "This is my fourth line \n",
            "This is my append line dataThis is my append line data\n"
          ]
        }
      ]
    },
    {
      "cell_type": "code",
      "source": [
        "# 16.  Demonstrate how to use memory profiling to check the memory usage of a small program\n",
        "!pip install -q memory-profiler"
      ],
      "metadata": {
        "id": "Eq6we3F9Vs87"
      },
      "execution_count": 37,
      "outputs": []
    },
    {
      "cell_type": "code",
      "source": [
        "%load_ext memory_profiler\n",
        "\n",
        "def create_list():\n",
        "    a = [i for i in range(1000000)]\n",
        "    return a\n",
        "\n",
        "%memit create_list()"
      ],
      "metadata": {
        "colab": {
          "base_uri": "https://localhost:8080/"
        },
        "id": "Uqqe2FeFWR3I",
        "outputId": "973387c8-8804-41b8-9e75-1be8b25e4c57"
      },
      "execution_count": 38,
      "outputs": [
        {
          "output_type": "stream",
          "name": "stdout",
          "text": [
            "peak memory: 370.68 MiB, increment: 2.48 MiB\n"
          ]
        }
      ]
    },
    {
      "cell_type": "code",
      "source": [
        "# 17. Write a Python program to create and write a list of numbers to a file, one number per line\n",
        "numbers = [10, 20, 30, 40, 50]\n",
        "with open(\"numbers.txt\", \"w\") as f:\n",
        "    for number in numbers:\n",
        "        f.write(str(number) + \"\\n\")\n",
        "print(\"Numbers have been written to 'numbers.txt' successfully.\")"
      ],
      "metadata": {
        "colab": {
          "base_uri": "https://localhost:8080/"
        },
        "id": "JngD2E7tWkYG",
        "outputId": "8f76646d-cb2a-4639-c837-f6e5d1e15858"
      },
      "execution_count": 39,
      "outputs": [
        {
          "output_type": "stream",
          "name": "stdout",
          "text": [
            "Numbers have been written to 'numbers.txt' successfully.\n"
          ]
        }
      ]
    },
    {
      "cell_type": "code",
      "source": [
        "# 18. How would you implement a basic logging setup that logs to a file with rotation after 1MB\n",
        "import logging\n",
        "from logging.handlers import RotatingFileHandler\n",
        "logger = logging.getLogger(\"my_logger\")\n",
        "logger.setLevel(logging.DEBUG)\n",
        "\n",
        "handler = RotatingFileHandler(\"app_log.txt\", maxBytes=1*1024*1024, backupCount=3)\n",
        "\n",
        "formatter = logging.Formatter('%(asctime)s - %(levelname)s - %(message)s')\n",
        "handler.setFormatter(formatter)\n",
        "\n",
        "logger.addHandler(handler)\n",
        "\n",
        "for i in range(5):\n",
        "    logger.info(f\"This is log message number {i}\")\n"
      ],
      "metadata": {
        "colab": {
          "base_uri": "https://localhost:8080/"
        },
        "id": "OSmqZnxqXZ8d",
        "outputId": "447c5a41-2f29-49d9-e2ec-f0577c127399"
      },
      "execution_count": 1,
      "outputs": [
        {
          "output_type": "stream",
          "name": "stderr",
          "text": [
            "INFO:my_logger:This is log message number 0\n",
            "INFO:my_logger:This is log message number 1\n",
            "INFO:my_logger:This is log message number 2\n",
            "INFO:my_logger:This is log message number 3\n",
            "INFO:my_logger:This is log message number 4\n"
          ]
        }
      ]
    },
    {
      "cell_type": "code",
      "source": [
        "# 19. Write a program that handles both IndexError and KeyError using a try-except block\n",
        "my_list = [1, 2, 3]\n",
        "my_dict = {\"name\": \"Shruti\", \"age\": 23}\n",
        "\n",
        "try:\n",
        "    print(my_list[5])\n",
        "    print(my_dict[\"address\"])\n",
        "\n",
        "except IndexError:\n",
        "    print(\"Error: List index is out of range.\")\n",
        "\n",
        "except KeyError:\n",
        "    print(\"Error: The specified key does not exist in the dictionary.\")\n",
        "\n",
        "print(\"Program completed.\")"
      ],
      "metadata": {
        "colab": {
          "base_uri": "https://localhost:8080/"
        },
        "id": "ynYRPPayXsdm",
        "outputId": "9c2e50f1-65b4-45b6-e45a-837520baee56"
      },
      "execution_count": 3,
      "outputs": [
        {
          "output_type": "stream",
          "name": "stdout",
          "text": [
            "Error: List index is out of range.\n",
            "Program completed.\n"
          ]
        }
      ]
    },
    {
      "cell_type": "code",
      "source": [
        "# 20. How would you open a file and read its contents using a context manager in Python?\n",
        "with open(\"file.txt\", \"r\") as f:\n",
        "    content = f.read()\n",
        "    print(content)"
      ],
      "metadata": {
        "colab": {
          "base_uri": "https://localhost:8080/"
        },
        "id": "An9dvUqEYGPb",
        "outputId": "b7ccb8b6-36ca-4042-b575-4419d2ce4e3b"
      },
      "execution_count": 4,
      "outputs": [
        {
          "output_type": "stream",
          "name": "stdout",
          "text": [
            "This is my first line \n",
            "This is my second line \n",
            "This is my third line \n",
            "This is my fourth line \n",
            "This is my append line dataThis is my append line data\n"
          ]
        }
      ]
    },
    {
      "cell_type": "code",
      "source": [
        "# 21. Write a Python program that reads a file and prints the number of occurrences of a specific word\n",
        "with open(\"file.txt\", \"r\") as f:\n",
        "  content = f.read()\n",
        "  print(content.count(\"This\"))"
      ],
      "metadata": {
        "colab": {
          "base_uri": "https://localhost:8080/"
        },
        "id": "xLnld84fYU4g",
        "outputId": "32491cf5-0a12-4864-bbca-47f017e45021"
      },
      "execution_count": 8,
      "outputs": [
        {
          "output_type": "stream",
          "name": "stdout",
          "text": [
            "6\n"
          ]
        }
      ]
    },
    {
      "cell_type": "code",
      "source": [
        "# 22. How can you check if a file is empty before attempting to read its contents\n",
        "import os\n",
        "if os.path.exists(\"file.txt\"):\n",
        "    with open(\"file.txt\", \"r\") as f:\n",
        "        content = f.read()\n",
        "        print(content)\n",
        "else:\n",
        "    print(\"File does not exist.\")"
      ],
      "metadata": {
        "colab": {
          "base_uri": "https://localhost:8080/"
        },
        "id": "Cvmx8fbWZVfK",
        "outputId": "f54de946-5e18-4aa5-c58a-06731baf4b5a"
      },
      "execution_count": 9,
      "outputs": [
        {
          "output_type": "stream",
          "name": "stdout",
          "text": [
            "This is my first line \n",
            "This is my second line \n",
            "This is my third line \n",
            "This is my fourth line \n",
            "This is my append line dataThis is my append line data\n"
          ]
        }
      ]
    },
    {
      "cell_type": "code",
      "source": [
        "# 23. Write a Python program that writes to a log file when an error occurs during file handling\n",
        "import logging\n",
        "logging.basicConfig(filename='error_file.txt', level=logging.ERROR,\n",
        "                    format='%(asctime)s - %(levelname)s - %(message)s')\n",
        "try:\n",
        "    f= open(\"data.txt\", \"r\")\n",
        "except FileNotFoundError:\n",
        "    logging.error(\"file not found\")\n",
        "else:\n",
        "  content = f.read()\n",
        "  print(content)\n",
        "finally:\n",
        "  f.close()"
      ],
      "metadata": {
        "colab": {
          "base_uri": "https://localhost:8080/"
        },
        "id": "ElFTpKQRZvif",
        "outputId": "f7450c1d-5400-469c-b8f7-771c4862dbcb"
      },
      "execution_count": 11,
      "outputs": [
        {
          "output_type": "stream",
          "name": "stderr",
          "text": [
            "ERROR:root:file not found\n"
          ]
        }
      ]
    },
    {
      "cell_type": "code",
      "source": [],
      "metadata": {
        "id": "3LBUu1-makcM"
      },
      "execution_count": null,
      "outputs": []
    }
  ]
}